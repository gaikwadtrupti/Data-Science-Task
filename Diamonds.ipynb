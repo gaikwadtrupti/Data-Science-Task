{
 "cells": [
  {
   "cell_type": "code",
   "execution_count": 1,
   "id": "cffcf96f",
   "metadata": {},
   "outputs": [],
   "source": [
    "#Programmer :Gaikwad Trupti S.\n",
    "#College:Keystone school engineering pune\n",
    "#Class:TE [A]\n",
    "#Roll no.:19"
   ]
  },
  {
   "cell_type": "code",
   "execution_count": 2,
   "id": "20453273",
   "metadata": {},
   "outputs": [],
   "source": [
    "import pandas as pd\n",
    "import numpy as np\n",
    "import matplotlib.pyplot as plt\n",
    "import seaborn as sns"
   ]
  },
  {
   "cell_type": "code",
   "execution_count": 3,
   "id": "2db94569",
   "metadata": {},
   "outputs": [],
   "source": [
    "diamonds=pd.read_csv('diamonds.csv')"
   ]
  },
  {
   "cell_type": "code",
   "execution_count": 4,
   "id": "e02a16b1",
   "metadata": {},
   "outputs": [
    {
     "data": {
      "text/html": [
       "<div>\n",
       "<style scoped>\n",
       "    .dataframe tbody tr th:only-of-type {\n",
       "        vertical-align: middle;\n",
       "    }\n",
       "\n",
       "    .dataframe tbody tr th {\n",
       "        vertical-align: top;\n",
       "    }\n",
       "\n",
       "    .dataframe thead th {\n",
       "        text-align: right;\n",
       "    }\n",
       "</style>\n",
       "<table border=\"1\" class=\"dataframe\">\n",
       "  <thead>\n",
       "    <tr style=\"text-align: right;\">\n",
       "      <th></th>\n",
       "      <th>carat</th>\n",
       "      <th>cut</th>\n",
       "      <th>color</th>\n",
       "      <th>clarity</th>\n",
       "      <th>depth</th>\n",
       "      <th>table</th>\n",
       "      <th>price</th>\n",
       "      <th>x</th>\n",
       "      <th>y</th>\n",
       "      <th>z</th>\n",
       "    </tr>\n",
       "  </thead>\n",
       "  <tbody>\n",
       "    <tr>\n",
       "      <th>0</th>\n",
       "      <td>0.23</td>\n",
       "      <td>Ideal</td>\n",
       "      <td>E</td>\n",
       "      <td>SI2</td>\n",
       "      <td>61.5</td>\n",
       "      <td>55.0</td>\n",
       "      <td>326</td>\n",
       "      <td>3.95</td>\n",
       "      <td>3.98</td>\n",
       "      <td>2.43</td>\n",
       "    </tr>\n",
       "    <tr>\n",
       "      <th>1</th>\n",
       "      <td>0.21</td>\n",
       "      <td>Premium</td>\n",
       "      <td>E</td>\n",
       "      <td>SI1</td>\n",
       "      <td>59.8</td>\n",
       "      <td>61.0</td>\n",
       "      <td>326</td>\n",
       "      <td>3.89</td>\n",
       "      <td>3.84</td>\n",
       "      <td>2.31</td>\n",
       "    </tr>\n",
       "    <tr>\n",
       "      <th>2</th>\n",
       "      <td>0.23</td>\n",
       "      <td>Good</td>\n",
       "      <td>E</td>\n",
       "      <td>VS1</td>\n",
       "      <td>56.9</td>\n",
       "      <td>65.0</td>\n",
       "      <td>327</td>\n",
       "      <td>4.05</td>\n",
       "      <td>4.07</td>\n",
       "      <td>2.31</td>\n",
       "    </tr>\n",
       "    <tr>\n",
       "      <th>3</th>\n",
       "      <td>0.29</td>\n",
       "      <td>Premium</td>\n",
       "      <td>I</td>\n",
       "      <td>VS2</td>\n",
       "      <td>62.4</td>\n",
       "      <td>58.0</td>\n",
       "      <td>334</td>\n",
       "      <td>4.20</td>\n",
       "      <td>4.23</td>\n",
       "      <td>2.63</td>\n",
       "    </tr>\n",
       "    <tr>\n",
       "      <th>4</th>\n",
       "      <td>0.31</td>\n",
       "      <td>Good</td>\n",
       "      <td>J</td>\n",
       "      <td>SI2</td>\n",
       "      <td>63.3</td>\n",
       "      <td>58.0</td>\n",
       "      <td>335</td>\n",
       "      <td>4.34</td>\n",
       "      <td>4.35</td>\n",
       "      <td>2.75</td>\n",
       "    </tr>\n",
       "    <tr>\n",
       "      <th>...</th>\n",
       "      <td>...</td>\n",
       "      <td>...</td>\n",
       "      <td>...</td>\n",
       "      <td>...</td>\n",
       "      <td>...</td>\n",
       "      <td>...</td>\n",
       "      <td>...</td>\n",
       "      <td>...</td>\n",
       "      <td>...</td>\n",
       "      <td>...</td>\n",
       "    </tr>\n",
       "    <tr>\n",
       "      <th>53935</th>\n",
       "      <td>0.72</td>\n",
       "      <td>Ideal</td>\n",
       "      <td>D</td>\n",
       "      <td>SI1</td>\n",
       "      <td>60.8</td>\n",
       "      <td>57.0</td>\n",
       "      <td>2757</td>\n",
       "      <td>5.75</td>\n",
       "      <td>5.76</td>\n",
       "      <td>3.50</td>\n",
       "    </tr>\n",
       "    <tr>\n",
       "      <th>53936</th>\n",
       "      <td>0.72</td>\n",
       "      <td>Good</td>\n",
       "      <td>D</td>\n",
       "      <td>SI1</td>\n",
       "      <td>63.1</td>\n",
       "      <td>55.0</td>\n",
       "      <td>2757</td>\n",
       "      <td>5.69</td>\n",
       "      <td>5.75</td>\n",
       "      <td>3.61</td>\n",
       "    </tr>\n",
       "    <tr>\n",
       "      <th>53937</th>\n",
       "      <td>0.70</td>\n",
       "      <td>Very Good</td>\n",
       "      <td>D</td>\n",
       "      <td>SI1</td>\n",
       "      <td>62.8</td>\n",
       "      <td>60.0</td>\n",
       "      <td>2757</td>\n",
       "      <td>5.66</td>\n",
       "      <td>5.68</td>\n",
       "      <td>3.56</td>\n",
       "    </tr>\n",
       "    <tr>\n",
       "      <th>53938</th>\n",
       "      <td>0.86</td>\n",
       "      <td>Premium</td>\n",
       "      <td>H</td>\n",
       "      <td>SI2</td>\n",
       "      <td>61.0</td>\n",
       "      <td>58.0</td>\n",
       "      <td>2757</td>\n",
       "      <td>6.15</td>\n",
       "      <td>6.12</td>\n",
       "      <td>3.74</td>\n",
       "    </tr>\n",
       "    <tr>\n",
       "      <th>53939</th>\n",
       "      <td>0.75</td>\n",
       "      <td>Ideal</td>\n",
       "      <td>D</td>\n",
       "      <td>SI2</td>\n",
       "      <td>62.2</td>\n",
       "      <td>55.0</td>\n",
       "      <td>2757</td>\n",
       "      <td>5.83</td>\n",
       "      <td>5.87</td>\n",
       "      <td>3.64</td>\n",
       "    </tr>\n",
       "  </tbody>\n",
       "</table>\n",
       "<p>53940 rows × 10 columns</p>\n",
       "</div>"
      ],
      "text/plain": [
       "       carat        cut color clarity  depth  table  price     x     y     z\n",
       "0       0.23      Ideal     E     SI2   61.5   55.0    326  3.95  3.98  2.43\n",
       "1       0.21    Premium     E     SI1   59.8   61.0    326  3.89  3.84  2.31\n",
       "2       0.23       Good     E     VS1   56.9   65.0    327  4.05  4.07  2.31\n",
       "3       0.29    Premium     I     VS2   62.4   58.0    334  4.20  4.23  2.63\n",
       "4       0.31       Good     J     SI2   63.3   58.0    335  4.34  4.35  2.75\n",
       "...      ...        ...   ...     ...    ...    ...    ...   ...   ...   ...\n",
       "53935   0.72      Ideal     D     SI1   60.8   57.0   2757  5.75  5.76  3.50\n",
       "53936   0.72       Good     D     SI1   63.1   55.0   2757  5.69  5.75  3.61\n",
       "53937   0.70  Very Good     D     SI1   62.8   60.0   2757  5.66  5.68  3.56\n",
       "53938   0.86    Premium     H     SI2   61.0   58.0   2757  6.15  6.12  3.74\n",
       "53939   0.75      Ideal     D     SI2   62.2   55.0   2757  5.83  5.87  3.64\n",
       "\n",
       "[53940 rows x 10 columns]"
      ]
     },
     "execution_count": 4,
     "metadata": {},
     "output_type": "execute_result"
    }
   ],
   "source": [
    "diamonds"
   ]
  },
  {
   "cell_type": "code",
   "execution_count": 5,
   "id": "a2692bcf",
   "metadata": {},
   "outputs": [
    {
     "data": {
      "text/html": [
       "<div>\n",
       "<style scoped>\n",
       "    .dataframe tbody tr th:only-of-type {\n",
       "        vertical-align: middle;\n",
       "    }\n",
       "\n",
       "    .dataframe tbody tr th {\n",
       "        vertical-align: top;\n",
       "    }\n",
       "\n",
       "    .dataframe thead th {\n",
       "        text-align: right;\n",
       "    }\n",
       "</style>\n",
       "<table border=\"1\" class=\"dataframe\">\n",
       "  <thead>\n",
       "    <tr style=\"text-align: right;\">\n",
       "      <th></th>\n",
       "      <th>carat</th>\n",
       "      <th>cut</th>\n",
       "      <th>color</th>\n",
       "      <th>clarity</th>\n",
       "      <th>depth</th>\n",
       "      <th>table</th>\n",
       "      <th>price</th>\n",
       "      <th>x</th>\n",
       "      <th>y</th>\n",
       "      <th>z</th>\n",
       "    </tr>\n",
       "  </thead>\n",
       "  <tbody>\n",
       "    <tr>\n",
       "      <th>0</th>\n",
       "      <td>0.23</td>\n",
       "      <td>Ideal</td>\n",
       "      <td>E</td>\n",
       "      <td>SI2</td>\n",
       "      <td>61.5</td>\n",
       "      <td>55.0</td>\n",
       "      <td>326</td>\n",
       "      <td>3.95</td>\n",
       "      <td>3.98</td>\n",
       "      <td>2.43</td>\n",
       "    </tr>\n",
       "    <tr>\n",
       "      <th>1</th>\n",
       "      <td>0.21</td>\n",
       "      <td>Premium</td>\n",
       "      <td>E</td>\n",
       "      <td>SI1</td>\n",
       "      <td>59.8</td>\n",
       "      <td>61.0</td>\n",
       "      <td>326</td>\n",
       "      <td>3.89</td>\n",
       "      <td>3.84</td>\n",
       "      <td>2.31</td>\n",
       "    </tr>\n",
       "    <tr>\n",
       "      <th>2</th>\n",
       "      <td>0.23</td>\n",
       "      <td>Good</td>\n",
       "      <td>E</td>\n",
       "      <td>VS1</td>\n",
       "      <td>56.9</td>\n",
       "      <td>65.0</td>\n",
       "      <td>327</td>\n",
       "      <td>4.05</td>\n",
       "      <td>4.07</td>\n",
       "      <td>2.31</td>\n",
       "    </tr>\n",
       "    <tr>\n",
       "      <th>3</th>\n",
       "      <td>0.29</td>\n",
       "      <td>Premium</td>\n",
       "      <td>I</td>\n",
       "      <td>VS2</td>\n",
       "      <td>62.4</td>\n",
       "      <td>58.0</td>\n",
       "      <td>334</td>\n",
       "      <td>4.20</td>\n",
       "      <td>4.23</td>\n",
       "      <td>2.63</td>\n",
       "    </tr>\n",
       "    <tr>\n",
       "      <th>4</th>\n",
       "      <td>0.31</td>\n",
       "      <td>Good</td>\n",
       "      <td>J</td>\n",
       "      <td>SI2</td>\n",
       "      <td>63.3</td>\n",
       "      <td>58.0</td>\n",
       "      <td>335</td>\n",
       "      <td>4.34</td>\n",
       "      <td>4.35</td>\n",
       "      <td>2.75</td>\n",
       "    </tr>\n",
       "  </tbody>\n",
       "</table>\n",
       "</div>"
      ],
      "text/plain": [
       "   carat      cut color clarity  depth  table  price     x     y     z\n",
       "0   0.23    Ideal     E     SI2   61.5   55.0    326  3.95  3.98  2.43\n",
       "1   0.21  Premium     E     SI1   59.8   61.0    326  3.89  3.84  2.31\n",
       "2   0.23     Good     E     VS1   56.9   65.0    327  4.05  4.07  2.31\n",
       "3   0.29  Premium     I     VS2   62.4   58.0    334  4.20  4.23  2.63\n",
       "4   0.31     Good     J     SI2   63.3   58.0    335  4.34  4.35  2.75"
      ]
     },
     "execution_count": 5,
     "metadata": {},
     "output_type": "execute_result"
    }
   ],
   "source": [
    "diamonds.head(5)"
   ]
  },
  {
   "cell_type": "code",
   "execution_count": 6,
   "id": "293e51da",
   "metadata": {},
   "outputs": [
    {
     "data": {
      "text/html": [
       "<div>\n",
       "<style scoped>\n",
       "    .dataframe tbody tr th:only-of-type {\n",
       "        vertical-align: middle;\n",
       "    }\n",
       "\n",
       "    .dataframe tbody tr th {\n",
       "        vertical-align: top;\n",
       "    }\n",
       "\n",
       "    .dataframe thead th {\n",
       "        text-align: right;\n",
       "    }\n",
       "</style>\n",
       "<table border=\"1\" class=\"dataframe\">\n",
       "  <thead>\n",
       "    <tr style=\"text-align: right;\">\n",
       "      <th></th>\n",
       "      <th>carat</th>\n",
       "      <th>cut</th>\n",
       "      <th>color</th>\n",
       "      <th>clarity</th>\n",
       "      <th>depth</th>\n",
       "      <th>table</th>\n",
       "      <th>price</th>\n",
       "      <th>x</th>\n",
       "      <th>y</th>\n",
       "      <th>z</th>\n",
       "    </tr>\n",
       "  </thead>\n",
       "  <tbody>\n",
       "    <tr>\n",
       "      <th>53935</th>\n",
       "      <td>0.72</td>\n",
       "      <td>Ideal</td>\n",
       "      <td>D</td>\n",
       "      <td>SI1</td>\n",
       "      <td>60.8</td>\n",
       "      <td>57.0</td>\n",
       "      <td>2757</td>\n",
       "      <td>5.75</td>\n",
       "      <td>5.76</td>\n",
       "      <td>3.50</td>\n",
       "    </tr>\n",
       "    <tr>\n",
       "      <th>53936</th>\n",
       "      <td>0.72</td>\n",
       "      <td>Good</td>\n",
       "      <td>D</td>\n",
       "      <td>SI1</td>\n",
       "      <td>63.1</td>\n",
       "      <td>55.0</td>\n",
       "      <td>2757</td>\n",
       "      <td>5.69</td>\n",
       "      <td>5.75</td>\n",
       "      <td>3.61</td>\n",
       "    </tr>\n",
       "    <tr>\n",
       "      <th>53937</th>\n",
       "      <td>0.70</td>\n",
       "      <td>Very Good</td>\n",
       "      <td>D</td>\n",
       "      <td>SI1</td>\n",
       "      <td>62.8</td>\n",
       "      <td>60.0</td>\n",
       "      <td>2757</td>\n",
       "      <td>5.66</td>\n",
       "      <td>5.68</td>\n",
       "      <td>3.56</td>\n",
       "    </tr>\n",
       "    <tr>\n",
       "      <th>53938</th>\n",
       "      <td>0.86</td>\n",
       "      <td>Premium</td>\n",
       "      <td>H</td>\n",
       "      <td>SI2</td>\n",
       "      <td>61.0</td>\n",
       "      <td>58.0</td>\n",
       "      <td>2757</td>\n",
       "      <td>6.15</td>\n",
       "      <td>6.12</td>\n",
       "      <td>3.74</td>\n",
       "    </tr>\n",
       "    <tr>\n",
       "      <th>53939</th>\n",
       "      <td>0.75</td>\n",
       "      <td>Ideal</td>\n",
       "      <td>D</td>\n",
       "      <td>SI2</td>\n",
       "      <td>62.2</td>\n",
       "      <td>55.0</td>\n",
       "      <td>2757</td>\n",
       "      <td>5.83</td>\n",
       "      <td>5.87</td>\n",
       "      <td>3.64</td>\n",
       "    </tr>\n",
       "  </tbody>\n",
       "</table>\n",
       "</div>"
      ],
      "text/plain": [
       "       carat        cut color clarity  depth  table  price     x     y     z\n",
       "53935   0.72      Ideal     D     SI1   60.8   57.0   2757  5.75  5.76  3.50\n",
       "53936   0.72       Good     D     SI1   63.1   55.0   2757  5.69  5.75  3.61\n",
       "53937   0.70  Very Good     D     SI1   62.8   60.0   2757  5.66  5.68  3.56\n",
       "53938   0.86    Premium     H     SI2   61.0   58.0   2757  6.15  6.12  3.74\n",
       "53939   0.75      Ideal     D     SI2   62.2   55.0   2757  5.83  5.87  3.64"
      ]
     },
     "execution_count": 6,
     "metadata": {},
     "output_type": "execute_result"
    }
   ],
   "source": [
    "diamonds.tail(5)"
   ]
  },
  {
   "cell_type": "code",
   "execution_count": 7,
   "id": "4ed155f8",
   "metadata": {},
   "outputs": [
    {
     "data": {
      "text/plain": [
       "(53940, 10)"
      ]
     },
     "execution_count": 7,
     "metadata": {},
     "output_type": "execute_result"
    }
   ],
   "source": [
    "diamonds.shape"
   ]
  },
  {
   "cell_type": "code",
   "execution_count": 8,
   "id": "5d58bf17",
   "metadata": {},
   "outputs": [
    {
     "name": "stdout",
     "output_type": "stream",
     "text": [
      "<class 'pandas.core.frame.DataFrame'>\n",
      "RangeIndex: 53940 entries, 0 to 53939\n",
      "Data columns (total 10 columns):\n",
      " #   Column   Non-Null Count  Dtype  \n",
      "---  ------   --------------  -----  \n",
      " 0   carat    53940 non-null  float64\n",
      " 1   cut      53940 non-null  object \n",
      " 2   color    53940 non-null  object \n",
      " 3   clarity  53940 non-null  object \n",
      " 4   depth    53940 non-null  float64\n",
      " 5   table    53940 non-null  float64\n",
      " 6   price    53940 non-null  int64  \n",
      " 7   x        53940 non-null  float64\n",
      " 8   y        53940 non-null  float64\n",
      " 9   z        53940 non-null  float64\n",
      "dtypes: float64(6), int64(1), object(3)\n",
      "memory usage: 4.1+ MB\n"
     ]
    }
   ],
   "source": [
    "diamonds.info()"
   ]
  },
  {
   "cell_type": "code",
   "execution_count": 9,
   "id": "09d30145",
   "metadata": {},
   "outputs": [
    {
     "data": {
      "text/html": [
       "<div>\n",
       "<style scoped>\n",
       "    .dataframe tbody tr th:only-of-type {\n",
       "        vertical-align: middle;\n",
       "    }\n",
       "\n",
       "    .dataframe tbody tr th {\n",
       "        vertical-align: top;\n",
       "    }\n",
       "\n",
       "    .dataframe thead th {\n",
       "        text-align: right;\n",
       "    }\n",
       "</style>\n",
       "<table border=\"1\" class=\"dataframe\">\n",
       "  <thead>\n",
       "    <tr style=\"text-align: right;\">\n",
       "      <th></th>\n",
       "      <th>carat</th>\n",
       "      <th>depth</th>\n",
       "      <th>table</th>\n",
       "      <th>price</th>\n",
       "      <th>x</th>\n",
       "      <th>y</th>\n",
       "      <th>z</th>\n",
       "    </tr>\n",
       "  </thead>\n",
       "  <tbody>\n",
       "    <tr>\n",
       "      <th>count</th>\n",
       "      <td>53940.000000</td>\n",
       "      <td>53940.000000</td>\n",
       "      <td>53940.000000</td>\n",
       "      <td>53940.000000</td>\n",
       "      <td>53940.000000</td>\n",
       "      <td>53940.000000</td>\n",
       "      <td>53940.000000</td>\n",
       "    </tr>\n",
       "    <tr>\n",
       "      <th>mean</th>\n",
       "      <td>0.797940</td>\n",
       "      <td>61.749405</td>\n",
       "      <td>57.457184</td>\n",
       "      <td>3932.799722</td>\n",
       "      <td>5.731157</td>\n",
       "      <td>5.734526</td>\n",
       "      <td>3.538734</td>\n",
       "    </tr>\n",
       "    <tr>\n",
       "      <th>std</th>\n",
       "      <td>0.474011</td>\n",
       "      <td>1.432621</td>\n",
       "      <td>2.234491</td>\n",
       "      <td>3989.439738</td>\n",
       "      <td>1.121761</td>\n",
       "      <td>1.142135</td>\n",
       "      <td>0.705699</td>\n",
       "    </tr>\n",
       "    <tr>\n",
       "      <th>min</th>\n",
       "      <td>0.200000</td>\n",
       "      <td>43.000000</td>\n",
       "      <td>43.000000</td>\n",
       "      <td>326.000000</td>\n",
       "      <td>0.000000</td>\n",
       "      <td>0.000000</td>\n",
       "      <td>0.000000</td>\n",
       "    </tr>\n",
       "    <tr>\n",
       "      <th>25%</th>\n",
       "      <td>0.400000</td>\n",
       "      <td>61.000000</td>\n",
       "      <td>56.000000</td>\n",
       "      <td>950.000000</td>\n",
       "      <td>4.710000</td>\n",
       "      <td>4.720000</td>\n",
       "      <td>2.910000</td>\n",
       "    </tr>\n",
       "    <tr>\n",
       "      <th>50%</th>\n",
       "      <td>0.700000</td>\n",
       "      <td>61.800000</td>\n",
       "      <td>57.000000</td>\n",
       "      <td>2401.000000</td>\n",
       "      <td>5.700000</td>\n",
       "      <td>5.710000</td>\n",
       "      <td>3.530000</td>\n",
       "    </tr>\n",
       "    <tr>\n",
       "      <th>75%</th>\n",
       "      <td>1.040000</td>\n",
       "      <td>62.500000</td>\n",
       "      <td>59.000000</td>\n",
       "      <td>5324.250000</td>\n",
       "      <td>6.540000</td>\n",
       "      <td>6.540000</td>\n",
       "      <td>4.040000</td>\n",
       "    </tr>\n",
       "    <tr>\n",
       "      <th>max</th>\n",
       "      <td>5.010000</td>\n",
       "      <td>79.000000</td>\n",
       "      <td>95.000000</td>\n",
       "      <td>18823.000000</td>\n",
       "      <td>10.740000</td>\n",
       "      <td>58.900000</td>\n",
       "      <td>31.800000</td>\n",
       "    </tr>\n",
       "  </tbody>\n",
       "</table>\n",
       "</div>"
      ],
      "text/plain": [
       "              carat         depth         table         price             x  \\\n",
       "count  53940.000000  53940.000000  53940.000000  53940.000000  53940.000000   \n",
       "mean       0.797940     61.749405     57.457184   3932.799722      5.731157   \n",
       "std        0.474011      1.432621      2.234491   3989.439738      1.121761   \n",
       "min        0.200000     43.000000     43.000000    326.000000      0.000000   \n",
       "25%        0.400000     61.000000     56.000000    950.000000      4.710000   \n",
       "50%        0.700000     61.800000     57.000000   2401.000000      5.700000   \n",
       "75%        1.040000     62.500000     59.000000   5324.250000      6.540000   \n",
       "max        5.010000     79.000000     95.000000  18823.000000     10.740000   \n",
       "\n",
       "                  y             z  \n",
       "count  53940.000000  53940.000000  \n",
       "mean       5.734526      3.538734  \n",
       "std        1.142135      0.705699  \n",
       "min        0.000000      0.000000  \n",
       "25%        4.720000      2.910000  \n",
       "50%        5.710000      3.530000  \n",
       "75%        6.540000      4.040000  \n",
       "max       58.900000     31.800000  "
      ]
     },
     "execution_count": 9,
     "metadata": {},
     "output_type": "execute_result"
    }
   ],
   "source": [
    "diamonds.describe()"
   ]
  },
  {
   "cell_type": "code",
   "execution_count": 10,
   "id": "9846cdfe",
   "metadata": {},
   "outputs": [
    {
     "data": {
      "text/plain": [
       "Index(['carat', 'cut', 'color', 'clarity', 'depth', 'table', 'price', 'x', 'y',\n",
       "       'z'],\n",
       "      dtype='object')"
      ]
     },
     "execution_count": 10,
     "metadata": {},
     "output_type": "execute_result"
    }
   ],
   "source": [
    "diamonds.keys()"
   ]
  },
  {
   "cell_type": "markdown",
   "id": "fad9c79f",
   "metadata": {},
   "source": [
    "# Print the total number of entries in the dataset.\n"
   ]
  },
  {
   "cell_type": "code",
   "execution_count": 11,
   "id": "bc95384e",
   "metadata": {},
   "outputs": [],
   "source": [
    "total_entries = len(diamonds)"
   ]
  },
  {
   "cell_type": "code",
   "execution_count": 12,
   "id": "4a38931c",
   "metadata": {},
   "outputs": [
    {
     "name": "stdout",
     "output_type": "stream",
     "text": [
      "Total number of entries in the dataset: 53940\n"
     ]
    }
   ],
   "source": [
    "print(\"Total number of entries in the dataset:\", total_entries)"
   ]
  },
  {
   "cell_type": "markdown",
   "id": "c7302870",
   "metadata": {},
   "source": [
    "# Plot the distribution of diamond prices.\n"
   ]
  },
  {
   "cell_type": "code",
   "execution_count": 13,
   "id": "8ab7571a",
   "metadata": {},
   "outputs": [],
   "source": [
    "diamond_prices = diamonds['price']"
   ]
  },
  {
   "cell_type": "code",
   "execution_count": 14,
   "id": "7cc37888",
   "metadata": {},
   "outputs": [
    {
     "data": {
      "image/png": "[encoded data removed]",
      "text/plain": [
       "<Figure size 1000x600 with 1 Axes>"
      ]
     },
     "metadata": {},
     "output_type": "display_data"
    }
   ],
   "source": [
    "plt.figure(figsize=(10, 6))\n",
    "plt.hist(diamond_prices, bins=30, color='skyblue', edgecolor='black')\n",
    "plt.title('Distribution of Diamond Prices')\n",
    "plt.xlabel('Price')\n",
    "plt.ylabel('Frequency')\n",
    "plt.grid(True)\n",
    "plt.show()"
   ]
  },
  {
   "cell_type": "markdown",
   "id": "3fe033dc",
   "metadata": {},
   "source": [
    "# Calculate the average price for each cut and color."
   ]
  },
  {
   "cell_type": "code",
   "execution_count": 15,
   "id": "2e6cc02b",
   "metadata": {},
   "outputs": [
    {
     "name": "stdout",
     "output_type": "stream",
     "text": [
      "Average price for each cut and color:\n",
      "cut        color\n",
      "Fair       D        4291.061350\n",
      "           E        3682.312500\n",
      "           F        3827.003205\n",
      "           G        4239.254777\n",
      "           H        5135.683168\n",
      "           I        4685.445714\n",
      "           J        4975.655462\n",
      "Good       D        3405.382175\n",
      "           E        3423.644159\n",
      "           F        3495.750275\n",
      "           G        4123.482204\n",
      "           H        4276.254986\n",
      "           I        5078.532567\n",
      "           J        4574.172638\n",
      "Ideal      D        2629.094566\n",
      "           E        2597.550090\n",
      "           F        3374.939362\n",
      "           G        3720.706388\n",
      "           H        3889.334831\n",
      "           I        4451.970377\n",
      "           J        4918.186384\n",
      "Premium    D        3631.292576\n",
      "           E        3538.914420\n",
      "           F        4324.890176\n",
      "           G        4500.742134\n",
      "           H        5216.706780\n",
      "           I        5946.180672\n",
      "           J        6294.591584\n",
      "Very Good  D        3470.467284\n",
      "           E        3214.652083\n",
      "           F        3778.820240\n",
      "           G        3872.753806\n",
      "           H        4535.390351\n",
      "           I        5255.879568\n",
      "           J        5103.513274\n",
      "Name: price, dtype: float64\n"
     ]
    }
   ],
   "source": [
    "average_price = diamonds.groupby(['cut', 'color'])['price'].mean()\n",
    "\n",
    "print(\"Average price for each cut and color:\")\n",
    "print(average_price)"
   ]
  },
  {
   "cell_type": "markdown",
   "id": "c2947143",
   "metadata": {},
   "source": [
    "# Print the names of diamonds with the highest and lowest prices"
   ]
  },
  {
   "cell_type": "code",
   "execution_count": 17,
   "id": "282f3d8f",
   "metadata": {},
   "outputs": [
    {
     "name": "stdout",
     "output_type": "stream",
     "text": [
      "Price of the diamond with the highest price: 18823\n",
      "Price of the diamond with the lowest price: 326\n"
     ]
    }
   ],
   "source": [
    "diamond_max_price = diamonds.loc[diamonds['price'].idxmax(), 'price']\n",
    "diamond_min_price = diamonds.loc[diamonds['price'].idxmin(), 'price']\n",
    "\n",
    "print(\"Price of the diamond with the highest price:\", diamond_max_price)\n",
    "print(\"Price of the diamond with the lowest price:\", diamond_min_price)"
   ]
  },
  {
   "cell_type": "markdown",
   "id": "e9d26e1a",
   "metadata": {},
   "source": [
    "# Plot the average price by cut and color."
   ]
  },
  {
   "cell_type": "code",
   "execution_count": 18,
   "id": "52985f9a",
   "metadata": {},
   "outputs": [],
   "source": [
    "averageprice_by_cut_color = diamonds.groupby(['cut', 'color'])['price'].mean().unstack()\n"
   ]
  },
  {
   "cell_type": "code",
   "execution_count": 19,
   "id": "26e6821c",
   "metadata": {},
   "outputs": [
    {
     "data": {
      "image/png": "[encoded data removed]",
      "text/plain": [
       "<Figure size 1200x600 with 1 Axes>"
      ]
     },
     "metadata": {},
     "output_type": "display_data"
    }
   ],
   "source": [
    "averageprice_by_cut_color.plot(kind='bar', figsize=(12, 6), width=0.8)\n",
    "plt.title('Average Price by Cut and Color')\n",
    "plt.xlabel('Cut')\n",
    "plt.ylabel('Average Price')\n",
    "plt.xticks(rotation=360)\n",
    "plt.legend(title='Color')\n",
    "plt.grid(axis='y', linestyle='--', alpha=0.7)\n",
    "plt.tight_layout()\n",
    "plt.show()\n"
   ]
  },
  {
   "cell_type": "markdown",
   "id": "64ad7b58",
   "metadata": {},
   "source": [
    "# Calculate the correlation between diamond carat weight and price.\n"
   ]
  },
  {
   "cell_type": "code",
   "execution_count": 20,
   "id": "817202b6",
   "metadata": {},
   "outputs": [],
   "source": [
    "correlation = diamonds['carat'].corr(diamonds['price'])"
   ]
  },
  {
   "cell_type": "code",
   "execution_count": 21,
   "id": "6f357de8",
   "metadata": {},
   "outputs": [
    {
     "data": {
      "text/plain": [
       "0.9215913011934789"
      ]
     },
     "execution_count": 21,
     "metadata": {},
     "output_type": "execute_result"
    }
   ],
   "source": [
    "correlation"
   ]
  },
  {
   "cell_type": "markdown",
   "id": "39763cf1",
   "metadata": {},
   "source": [
    "# Plot the distribution of diamond carat weights.\n"
   ]
  },
  {
   "cell_type": "code",
   "execution_count": 22,
   "id": "998762bf",
   "metadata": {},
   "outputs": [
    {
     "data": {
      "image/png": "[encoded data removed]",
      "text/plain": [
       "<Figure size 1000x600 with 1 Axes>"
      ]
     },
     "metadata": {},
     "output_type": "display_data"
    }
   ],
   "source": [
    "carat_weights = diamonds['carat']\n",
    "\n",
    "\n",
    "plt.figure(figsize=(10, 6))\n",
    "plt.hist(carat_weights, bins=30, color='yellow', edgecolor='black')\n",
    "plt.title('Distribution of Diamond Carat Weights')\n",
    "plt.xlabel('Carat Weight')\n",
    "plt.ylabel('Frequency')\n",
    "plt.grid(True)\n",
    "plt.show()"
   ]
  },
  {
   "cell_type": "markdown",
   "id": "f5f1c85c",
   "metadata": {},
   "source": [
    "# Print the names of diamonds with the highest and lowest carat weights"
   ]
  },
  {
   "cell_type": "markdown",
   "id": "b2d238de",
   "metadata": {},
   "source": [
    "*************Name of Diamonds column are not present in given dataset*****************"
   ]
  },
  {
   "cell_type": "code",
   "execution_count": 23,
   "id": "89ce0c94",
   "metadata": {},
   "outputs": [
    {
     "name": "stdout",
     "output_type": "stream",
     "text": [
      "price of the diamond with the highest carat weight: 18018\n",
      "price of the diamond with the lowest carat weight: 345\n"
     ]
    }
   ],
   "source": [
    "max_carat = diamonds.loc[diamonds['carat'].idxmax(), 'price']\n",
    "min_carat = diamonds.loc[diamonds['carat'].idxmin(), 'price']\n",
    "\n",
    "print(\"price of the diamond with the highest carat weight:\", max_carat)\n",
    "print(\"price of the diamond with the lowest carat weight:\", min_carat)"
   ]
  },
  {
   "cell_type": "markdown",
   "id": "6ec6af92",
   "metadata": {},
   "source": [
    "# Plot the distribution of diamond clarity levels.\n"
   ]
  },
  {
   "cell_type": "code",
   "execution_count": 24,
   "id": "0c1092a5",
   "metadata": {},
   "outputs": [
    {
     "data": {
      "image/png": "[encoded data removed]",
      "text/plain": [
       "<Figure size 1000x600 with 1 Axes>"
      ]
     },
     "metadata": {},
     "output_type": "display_data"
    }
   ],
   "source": [
    "clarity_levels = diamonds['clarity']\n",
    "\n",
    "\n",
    "plt.figure(figsize=(10, 6))\n",
    "clarity_levels.value_counts().plot(kind='bar', color='orange', edgecolor='black')\n",
    "plt.title('Distribution of Diamond Clarity Levels')\n",
    "plt.xlabel('Clarity')\n",
    "plt.ylabel('Frequency')\n",
    "plt.xticks(rotation=360)\n",
    "plt.grid(axis='y', alpha=1)\n",
    "\n",
    "plt.show()"
   ]
  },
  {
   "cell_type": "markdown",
   "id": "547f46bf",
   "metadata": {},
   "source": [
    "# Calculate the average price by clarity level."
   ]
  },
  {
   "cell_type": "code",
   "execution_count": 25,
   "id": "a18ed38a",
   "metadata": {},
   "outputs": [
    {
     "name": "stdout",
     "output_type": "stream",
     "text": [
      "Average price by clarity level:\n",
      "clarity\n",
      "I1      3924.168691\n",
      "IF      2864.839106\n",
      "SI1     3996.001148\n",
      "SI2     5063.028606\n",
      "VS1     3839.455391\n",
      "VS2     3924.989395\n",
      "VVS1    2523.114637\n",
      "VVS2    3283.737071\n",
      "Name: price, dtype: float64\n"
     ]
    }
   ],
   "source": [
    "average_clarity = diamonds.groupby('clarity')['price'].mean()\n",
    "\n",
    "print(\"Average price by clarity level:\")\n",
    "print(average_clarity)"
   ]
  },
  {
   "cell_type": "markdown",
   "id": "88be53ea",
   "metadata": {},
   "source": [
    "# Print the names of diamonds with the highest and lowest price-per-carat"
   ]
  },
  {
   "cell_type": "markdown",
   "id": "1ac175e8",
   "metadata": {},
   "source": [
    "*****Name of Diamonds column are not present in given dataset*****"
   ]
  },
  {
   "cell_type": "code",
   "execution_count": 26,
   "id": "17b5e2ab",
   "metadata": {},
   "outputs": [],
   "source": [
    "diamonds['price_per_carat'] = diamonds['price'] / diamonds['carat']\n",
    "highest_ppc_diamond = diamonds.loc[diamonds['price_per_carat'].idxmax(), 'price']\n",
    "lowest_ppc_diamond = diamonds.loc[diamonds['price_per_carat'].idxmin(), 'price']\n"
   ]
  },
  {
   "cell_type": "code",
   "execution_count": 27,
   "id": "e13fc335",
   "metadata": {},
   "outputs": [
    {
     "name": "stdout",
     "output_type": "stream",
     "text": [
      "Price of the diamond with the highest price-per-carat: 18542\n",
      "Price of the diamond with the lowest price-per-carat: 452\n"
     ]
    }
   ],
   "source": [
    "print(\"Price of the diamond with the highest price-per-carat:\", highest_ppc_diamond)\n",
    "print(\"Price of the diamond with the lowest price-per-carat:\", lowest_ppc_diamond)"
   ]
  },
  {
   "cell_type": "markdown",
   "id": "99d80967",
   "metadata": {},
   "source": [
    "# Plot the distribution of diamond prices by clarity level.\n"
   ]
  },
  {
   "cell_type": "code",
   "execution_count": 28,
   "id": "3b86ae76",
   "metadata": {},
   "outputs": [
    {
     "data": {
      "text/plain": [
       "<Figure size 1000x600 with 0 Axes>"
      ]
     },
     "metadata": {},
     "output_type": "display_data"
    },
    {
     "data": {
      "image/png": "[encoded data removed]",
      "text/plain": [
       "<Figure size 1000x600 with 1 Axes>"
      ]
     },
     "metadata": {},
     "output_type": "display_data"
    }
   ],
   "source": [
    "plt.figure(figsize=(10, 6))\n",
    "diamonds.boxplot(column='price', by='clarity', figsize=(10,6))\n",
    "plt.title('Distribution of Diamond Prices by Clarity Level')\n",
    "plt.xlabel('Clarity')\n",
    "plt.ylabel('Price')\n",
    "plt.xticks(rotation=360)\n",
    "plt.show()"
   ]
  },
  {
   "cell_type": "markdown",
   "id": "27d80f4c",
   "metadata": {},
   "source": [
    "# Calculate the median price for each cut and color."
   ]
  },
  {
   "cell_type": "code",
   "execution_count": 29,
   "id": "16d4d068",
   "metadata": {},
   "outputs": [
    {
     "name": "stdout",
     "output_type": "stream",
     "text": [
      "Median price for each cut and color:\n",
      "cut        color\n",
      "Fair       D        3730.0\n",
      "           E        2956.0\n",
      "           F        3035.0\n",
      "           G        3057.0\n",
      "           H        3816.0\n",
      "           I        3246.0\n",
      "           J        3302.0\n",
      "Good       D        2728.5\n",
      "           E        2420.0\n",
      "           F        2647.0\n",
      "           G        3340.0\n",
      "           H        3468.5\n",
      "           I        3639.5\n",
      "           J        3733.0\n",
      "Ideal      D        1576.0\n",
      "           E        1437.0\n",
      "           F        1775.0\n",
      "           G        1857.5\n",
      "           H        2278.0\n",
      "           I        2659.0\n",
      "           J        4096.0\n",
      "Premium    D        2009.0\n",
      "           E        1928.0\n",
      "           F        2841.0\n",
      "           G        2745.0\n",
      "           H        4511.0\n",
      "           I        4640.0\n",
      "           J        5063.0\n",
      "Very Good  D        2310.0\n",
      "           E        1989.5\n",
      "           F        2471.0\n",
      "           G        2437.0\n",
      "           H        3734.0\n",
      "           I        3888.0\n",
      "           J        4113.0\n",
      "Name: price, dtype: float64\n"
     ]
    }
   ],
   "source": [
    "median_price = diamonds.groupby(['cut', 'color'])['price'].median()\n",
    "\n",
    "print(\"Median price for each cut and color:\")\n",
    "print(median_price)"
   ]
  },
  {
   "cell_type": "markdown",
   "id": "23ec287d",
   "metadata": {},
   "source": [
    "# Print the names of diamonds with the highest and lowest price-per-carat for each clarity level."
   ]
  },
  {
   "cell_type": "code",
   "execution_count": 30,
   "id": "19a97d4e",
   "metadata": {},
   "outputs": [
    {
     "name": "stdout",
     "output_type": "stream",
     "text": [
      "For clarity level I1:\n",
      "Price of the diamond with the highest price-per-carat: 2160\n",
      "Price of the diamond with the lowest price-per-carat: 452\n",
      "\n",
      "For clarity level IF:\n",
      "Price of the diamond with the highest price-per-carat: 18542\n",
      "Price of the diamond with the lowest price-per-carat: 651\n",
      "\n",
      "For clarity level SI1:\n",
      "Price of the diamond with the highest price-per-carat: 16575\n",
      "Price of the diamond with the lowest price-per-carat: 339\n",
      "\n",
      "For clarity level SI2:\n",
      "Price of the diamond with the highest price-per-carat: 10011\n",
      "Price of the diamond with the lowest price-per-carat: 335\n",
      "\n",
      "For clarity level VS1:\n",
      "Price of the diamond with the highest price-per-carat: 18729\n",
      "Price of the diamond with the lowest price-per-carat: 413\n",
      "\n",
      "For clarity level VS2:\n",
      "Price of the diamond with the highest price-per-carat: 18691\n",
      "Price of the diamond with the lowest price-per-carat: 334\n",
      "\n",
      "For clarity level VVS1:\n",
      "Price of the diamond with the highest price-per-carat: 14498\n",
      "Price of the diamond with the lowest price-per-carat: 336\n",
      "\n",
      "For clarity level VVS2:\n",
      "Price of the diamond with the highest price-per-carat: 16130\n",
      "Price of the diamond with the lowest price-per-carat: 375\n",
      "\n"
     ]
    }
   ],
   "source": [
    "diamonds['price_per_carat'] = diamonds['price'] / diamonds['carat']\n",
    "\n",
    "\n",
    "grouped_data = diamonds.groupby('clarity')\n",
    "\n",
    "\n",
    "for clarity, group in grouped_data:\n",
    "    highest_ppc_diamond = group.loc[group['price_per_carat'].idxmax(), 'price']\n",
    "    lowest_ppc_diamond = group.loc[group['price_per_carat'].idxmin(), 'price']\n",
    "    print(f\"For clarity level {clarity}:\")\n",
    "    print(\"Price of the diamond with the highest price-per-carat:\", highest_ppc_diamond)\n",
    "    print(\"Price of the diamond with the lowest price-per-carat:\", lowest_ppc_diamond)\n",
    "    print()"
   ]
  },
  {
   "cell_type": "markdown",
   "id": "f6e22384",
   "metadata": {},
   "source": [
    "# Plot the average price by cut and clarity"
   ]
  },
  {
   "cell_type": "code",
   "execution_count": 31,
   "id": "b7c94e3a",
   "metadata": {},
   "outputs": [
    {
     "data": {
      "image/png": "[encoded data removed]",
      "text/plain": [
       "<Figure size 1000x600 with 1 Axes>"
      ]
     },
     "metadata": {},
     "output_type": "display_data"
    }
   ],
   "source": [
    "\n",
    "plt.figure(figsize=(10, 6))\n",
    "sns.barplot(x='cut', y='price', hue='clarity', data=diamonds, estimator=lambda x: sum(x) / len(x))\n",
    "plt.title('Average Price by Cut and Clarity')\n",
    "plt.xlabel('Cut')\n",
    "plt.ylabel('Average Price')\n",
    "plt.legend(title='Clarity')\n",
    "plt.show()\n"
   ]
  },
  {
   "cell_type": "code",
   "execution_count": null,
   "id": "fdccd7d4",
   "metadata": {},
   "outputs": [],
   "source": []
  }
 ],
 "metadata": {
  "kernelspec": {
   "display_name": "Python 3 (ipykernel)",
   "language": "python",
   "name": "python3"
  },
  "language_info": {
   "codemirror_mode": {
    "name": "ipython",
    "version": 3
   },
   "file_extension": ".py",
   "mimetype": "text/x-python",
   "name": "python",
   "nbconvert_exporter": "python",
   "pygments_lexer": "ipython3",
   "version": "3.9.13"
  }
 },
 "nbformat": 4,
 "nbformat_minor": 5
}
